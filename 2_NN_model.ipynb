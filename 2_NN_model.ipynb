{
 "cells": [
  {
   "cell_type": "code",
   "execution_count": 1,
   "metadata": {
    "ExecuteTime": {
     "end_time": "2023-05-03T18:24:52.771666648Z",
     "start_time": "2023-05-03T18:24:44.112872316Z"
    }
   },
   "outputs": [],
   "source": [
    "import random\n",
    "import sys\n",
    "from typing import Literal\n",
    "\n",
    "import pytorch_lightning as pl\n",
    "import torch\n",
    "import torch.nn as nn\n",
    "import torch.optim as optim\n",
    "from pytorch_lightning.callbacks import ModelCheckpoint\n",
    "from pytorch_lightning.loggers import TensorBoardLogger\n",
    "from torch.utils.data import DataLoader, Dataset\n",
    "from torchmetrics import Accuracy\n",
    "\n",
    "sys.path.append(\"src\")\n",
    "\n",
    "import utils"
   ]
  },
  {
   "cell_type": "code",
   "execution_count": 2,
   "outputs": [
    {
     "data": {
      "text/plain": "<torch._C.Generator at 0x7fa475388f70>"
     },
     "execution_count": 2,
     "metadata": {},
     "output_type": "execute_result"
    }
   ],
   "source": [
    "random.seed(42)\n",
    "torch.manual_seed(42)"
   ],
   "metadata": {
    "collapsed": false,
    "ExecuteTime": {
     "end_time": "2023-05-03T18:24:52.779160166Z",
     "start_time": "2023-05-03T18:24:52.773040398Z"
    }
   }
  },
  {
   "cell_type": "code",
   "execution_count": 3,
   "metadata": {
    "ExecuteTime": {
     "end_time": "2023-05-03T18:24:52.830634749Z",
     "start_time": "2023-05-03T18:24:52.778450636Z"
    }
   },
   "outputs": [
    {
     "data": {
      "text/plain": "True"
     },
     "execution_count": 3,
     "metadata": {},
     "output_type": "execute_result"
    }
   ],
   "source": [
    "torch.cuda.is_available()"
   ]
  },
  {
   "cell_type": "code",
   "execution_count": 4,
   "metadata": {
    "ExecuteTime": {
     "end_time": "2023-05-03T18:25:06.516417681Z",
     "start_time": "2023-05-03T18:24:52.795800106Z"
    }
   },
   "outputs": [],
   "source": [
    "train = utils.read_data(\"train\")\n",
    "test = utils.read_data(\"test\")"
   ]
  },
  {
   "cell_type": "code",
   "execution_count": 5,
   "metadata": {
    "ExecuteTime": {
     "end_time": "2023-05-03T18:25:06.522681251Z",
     "start_time": "2023-05-03T18:25:06.521286251Z"
    }
   },
   "outputs": [],
   "source": [
    "train_sequences = [(train[key]['ts'].to_numpy(), 1 if train[key]['class'] == \"a\" else 0) for key in train]\n",
    "test_sequences = [(test[key]['ts'].to_numpy(), 1 if test[key]['class'] == \"a\" else 0) for key in test]\n",
    "random.shuffle(test_sequences)\n",
    "val_sequences = test_sequences[:100]\n",
    "test_sequences = test_sequences[100:]"
   ]
  },
  {
   "cell_type": "code",
   "execution_count": 6,
   "metadata": {
    "ExecuteTime": {
     "end_time": "2023-05-03T18:25:06.535673848Z",
     "start_time": "2023-05-03T18:25:06.524006040Z"
    }
   },
   "outputs": [
    {
     "data": {
      "text/plain": "(256, 64)"
     },
     "execution_count": 6,
     "metadata": {},
     "output_type": "execute_result"
    }
   ],
   "source": [
    "test_sequences[0][0].shape"
   ]
  },
  {
   "cell_type": "code",
   "execution_count": 7,
   "metadata": {
    "ExecuteTime": {
     "end_time": "2023-05-03T18:25:06.545747242Z",
     "start_time": "2023-05-03T18:25:06.535470145Z"
    }
   },
   "outputs": [
    {
     "data": {
      "text/plain": "468"
     },
     "execution_count": 7,
     "metadata": {},
     "output_type": "execute_result"
    }
   ],
   "source": [
    "len(train_sequences)"
   ]
  },
  {
   "cell_type": "code",
   "execution_count": 8,
   "metadata": {
    "ExecuteTime": {
     "end_time": "2023-05-03T18:25:06.628764625Z",
     "start_time": "2023-05-03T18:25:06.545412978Z"
    }
   },
   "outputs": [
    {
     "data": {
      "text/plain": "(100, 380)"
     },
     "execution_count": 8,
     "metadata": {},
     "output_type": "execute_result"
    }
   ],
   "source": [
    "len(val_sequences), len(test_sequences)"
   ]
  },
  {
   "cell_type": "code",
   "execution_count": 9,
   "metadata": {
    "ExecuteTime": {
     "end_time": "2023-05-03T18:25:06.628935588Z",
     "start_time": "2023-05-03T18:25:06.588808391Z"
    }
   },
   "outputs": [],
   "source": [
    "class EEGDataset(Dataset):\n",
    "    def __init__(self, sequences):\n",
    "        self.sequences = sequences\n",
    "\n",
    "    def __len__(self):\n",
    "        return len(self.sequences)\n",
    "\n",
    "    def __getitem__(self, idx):\n",
    "        sequence, label = self.sequences[idx]\n",
    "        return dict(\n",
    "            sequence=torch.Tensor(sequence),\n",
    "            label=torch.tensor(label).long()\n",
    "        )"
   ]
  },
  {
   "cell_type": "code",
   "execution_count": 10,
   "metadata": {
    "ExecuteTime": {
     "end_time": "2023-05-03T18:25:06.628976118Z",
     "start_time": "2023-05-03T18:25:06.588915692Z"
    }
   },
   "outputs": [],
   "source": [
    "class EEGDataModule(pl.LightningDataModule):\n",
    "    def __init__(self, train_sequences, val_sequences, test_sequences, batch_size):\n",
    "        super().__init__()\n",
    "        self.train_sequences = train_sequences\n",
    "        self.val_sequences = val_sequences\n",
    "        self.test_sequences = test_sequences\n",
    "        self.batch_size = batch_size\n",
    "\n",
    "    def setup(self, stage=None):\n",
    "        self.train_dataset = EEGDataset(self.train_sequences)\n",
    "        self.val_dataset = EEGDataset(self.val_sequences)\n",
    "        self.test_dataset = EEGDataset(self.test_sequences)\n",
    "\n",
    "    def train_dataloader(self):\n",
    "        return DataLoader(\n",
    "            self.train_dataset,\n",
    "            batch_size=self.batch_size,\n",
    "            shuffle=True,\n",
    "            num_workers=6\n",
    "        )\n",
    "\n",
    "    def val_dataloader(self):\n",
    "        return DataLoader(\n",
    "            self.val_dataset,\n",
    "            batch_size=self.batch_size,\n",
    "            shuffle=False,\n",
    "            num_workers=6\n",
    "        )\n",
    "\n",
    "    def test_dataloader(self):\n",
    "        return DataLoader(\n",
    "            self.test_dataset,\n",
    "            batch_size=self.batch_size,\n",
    "            shuffle=False,\n",
    "            num_workers=6\n",
    "        )"
   ]
  },
  {
   "cell_type": "code",
   "execution_count": 11,
   "metadata": {
    "ExecuteTime": {
     "end_time": "2023-05-03T18:25:06.685672002Z",
     "start_time": "2023-05-03T18:25:06.588967503Z"
    }
   },
   "outputs": [],
   "source": [
    "N_EP0CHS = 15\n",
    "BATCH_SIZE = 32\n",
    "\n",
    "data_module = EEGDataModule(train_sequences, val_sequences, test_sequences, BATCH_SIZE)"
   ]
  },
  {
   "cell_type": "code",
   "execution_count": 85,
   "metadata": {
    "ExecuteTime": {
     "end_time": "2023-05-03T18:37:32.493537531Z",
     "start_time": "2023-05-03T18:37:32.101813426Z"
    }
   },
   "outputs": [],
   "source": [
    "class EEGModel(nn.Module):\n",
    "    def __init__(self, n_features: int = 64, n_hidden: int = 256, n_layers: int = 3,\n",
    "                 rnn: Literal[\"lstm\", \"gru\"] = \"lstm\", dropout: float = 0.3):\n",
    "        super().__init__()\n",
    "\n",
    "        match rnn:\n",
    "            case \"lstm\":\n",
    "                self.rnn_class = nn.LSTM\n",
    "            case \"gru\":\n",
    "                self.rnn_class = nn.GRU\n",
    "            case _:\n",
    "                raise ValueError(\"Invalid rnn architecture\")\n",
    "\n",
    "        self.rnn = self.rnn_class(\n",
    "            input_size=n_features,\n",
    "            hidden_size=n_hidden,\n",
    "            num_layers=n_layers,\n",
    "            batch_first=True,\n",
    "            bidirectional=True,\n",
    "            dropout=dropout\n",
    "        )\n",
    "        self.classifier = nn.Linear(2 * n_hidden, 1)\n",
    "        self.sigmoid = nn.Sigmoid()\n",
    "\n",
    "    def forward(self, x):\n",
    "        self.rnn.to(x.device)\n",
    "        self.classifier.to(x.device)\n",
    "\n",
    "        out, _ = self.rnn(x)\n",
    "        out = out.max(-2).values\n",
    "        out = self.classifier(out)\n",
    "        out = self.sigmoid(out)\n",
    "        return out"
   ]
  },
  {
   "cell_type": "code",
   "execution_count": 86,
   "metadata": {
    "ExecuteTime": {
     "end_time": "2023-05-03T18:37:32.764907352Z",
     "start_time": "2023-05-03T18:37:32.760390277Z"
    }
   },
   "outputs": [],
   "source": [
    "class EEGPredictior(pl.LightningModule):\n",
    "    def __init__(self, n_features, *args, **kwargs):\n",
    "        super().__init__()\n",
    "        self.model = EEGModel(n_features, *args, **kwargs)\n",
    "        self.criterion = nn.BCELoss()\n",
    "        self.acc = Accuracy(task=\"binary\")\n",
    "\n",
    "    def forward(self, x, labels=None):\n",
    "        output = self.model(x)\n",
    "        loss = 0\n",
    "        if labels is not None:\n",
    "            loss = self.criterion(output, labels.float().unsqueeze(-1))\n",
    "        return loss, output\n",
    "\n",
    "    def training_step(self, batch, batch_idx):\n",
    "        sequences = batch[\"sequence\"]\n",
    "        labels = batch[\"label\"]\n",
    "        loss, outputs = self(sequences, labels)\n",
    "        predictions = (outputs > 0.5).float().squeeze(-1)\n",
    "        step_accuracy = self.acc(predictions, labels)\n",
    "\n",
    "        self.log(\"train_loss\", loss, prog_bar=True, logger=True)\n",
    "        self.log(\"train_accuracy\", step_accuracy, prog_bar=True, logger=True)\n",
    "        return {\"loss\": loss, \"accuracy\": step_accuracy}\n",
    "\n",
    "    def validation_step(self, batch, batch_idx):\n",
    "        sequences = batch[\"sequence\"]\n",
    "        labels = batch[\"label\"]\n",
    "        loss, outputs = self(sequences, labels)\n",
    "        predictions = (outputs > 0.5).float().squeeze(-1)\n",
    "        step_accuracy = self.acc(predictions, labels)\n",
    "\n",
    "        self.log(\"val_loss\", loss, prog_bar=True, logger=True)\n",
    "        self.log(\"val_accuracy\", step_accuracy, prog_bar=True, logger=True)\n",
    "        return {\"loss\": loss, \"accuracy\": step_accuracy}\n",
    "\n",
    "    def test_step(self, batch, batch_idx):\n",
    "        sequences = batch[\"sequence\"]\n",
    "        labels = batch[\"label\"]\n",
    "        loss, outputs = self(sequences, labels)\n",
    "        predictions = (outputs > 0.5).float().squeeze(-1)\n",
    "        step_accuracy = self.acc(predictions, labels)\n",
    "\n",
    "        self.log(\"test_loss\", loss, prog_bar=True, logger=True)\n",
    "        self.log(\"test_accuracy\", step_accuracy, prog_bar=True, logger=True)\n",
    "        return {\"loss\": loss, \"accuracy\": step_accuracy}\n",
    "\n",
    "    def configure_optimizers(self):\n",
    "        return optim.Adam(self.parameters(), lr=0.001)"
   ]
  },
  {
   "cell_type": "code",
   "execution_count": 100,
   "metadata": {
    "ExecuteTime": {
     "end_time": "2023-05-03T18:39:00.240880008Z",
     "start_time": "2023-05-03T18:38:59.852365953Z"
    }
   },
   "outputs": [],
   "source": [
    "model = EEGPredictior(n_features=64, n_hidden=256, rnn=\"gru\", n_layers=3, dropout=0.25)"
   ]
  },
  {
   "cell_type": "code",
   "execution_count": 101,
   "metadata": {
    "ExecuteTime": {
     "end_time": "2023-05-03T18:39:00.945224342Z",
     "start_time": "2023-05-03T18:39:00.439454983Z"
    }
   },
   "outputs": [
    {
     "data": {
      "text/plain": "Launching TensorBoard..."
     },
     "metadata": {},
     "output_type": "display_data"
    }
   ],
   "source": [
    "%reload_ext tensorboard\n",
    "%tensorboard --logdir./lightning_logs"
   ]
  },
  {
   "cell_type": "code",
   "execution_count": 102,
   "metadata": {
    "ExecuteTime": {
     "end_time": "2023-05-03T18:39:01.029060763Z",
     "start_time": "2023-05-03T18:39:00.982249209Z"
    }
   },
   "outputs": [
    {
     "name": "stderr",
     "output_type": "stream",
     "text": [
      "GPU available: True (cuda), used: True\n",
      "TPU available: False, using: 0 TPU cores\n",
      "IPU available: False, using: 0 IPUs\n",
      "HPU available: False, using: 0 HPUs\n"
     ]
    }
   ],
   "source": [
    "checkpoint_callback = ModelCheckpoint(\n",
    "    dirpath=\"checkpoints\",\n",
    "    filename=\"best-checkpoint\",\n",
    "    save_top_k=1,\n",
    "    verbose=True,\n",
    "    monitor=\"val_loss\",\n",
    "    mode=\"min\"\n",
    ")\n",
    "\n",
    "logger = TensorBoardLogger(\"lightning_logs\", name=\"EEG\")\n",
    "\n",
    "trainer = pl.Trainer(\n",
    "    logger=logger,\n",
    "    callbacks=checkpoint_callback,\n",
    "    max_epochs=N_EP0CHS,\n",
    ")"
   ]
  },
  {
   "cell_type": "code",
   "execution_count": 103,
   "metadata": {
    "ExecuteTime": {
     "end_time": "2023-05-03T18:39:21.376067365Z",
     "start_time": "2023-05-03T18:39:01.569070854Z"
    }
   },
   "outputs": [
    {
     "name": "stderr",
     "output_type": "stream",
     "text": [
      "/home/jkarolczak/miniconda3/envs/eeg/lib/python3.10/site-packages/pytorch_lightning/callbacks/model_checkpoint.py:612: UserWarning: Checkpoint directory /home/jkarolczak/Projects/eeg-alcoholics/checkpoints exists and is not empty.\n",
      "  rank_zero_warn(f\"Checkpoint directory {dirpath} exists and is not empty.\")\n",
      "LOCAL_RANK: 0 - CUDA_VISIBLE_DEVICES: [0]\n",
      "\n",
      "  | Name      | Type           | Params\n",
      "---------------------------------------------\n",
      "0 | model     | EEGModel       | 2.9 M \n",
      "1 | criterion | BCELoss        | 0     \n",
      "2 | acc       | BinaryAccuracy | 0     \n",
      "---------------------------------------------\n",
      "2.9 M     Trainable params\n",
      "0         Non-trainable params\n",
      "2.9 M     Total params\n",
      "11.442    Total estimated model params size (MB)\n"
     ]
    },
    {
     "data": {
      "text/plain": "Sanity Checking: 0it [00:00, ?it/s]",
      "application/vnd.jupyter.widget-view+json": {
       "version_major": 2,
       "version_minor": 0,
       "model_id": "bf484eb798d8489283131f22ee635d49"
      }
     },
     "metadata": {},
     "output_type": "display_data"
    },
    {
     "name": "stderr",
     "output_type": "stream",
     "text": [
      "/home/jkarolczak/miniconda3/envs/eeg/lib/python3.10/site-packages/pytorch_lightning/loops/fit_loop.py:280: PossibleUserWarning: The number of training batches (15) is smaller than the logging interval Trainer(log_every_n_steps=50). Set a lower value for log_every_n_steps if you want to see logs for the training epoch.\n",
      "  rank_zero_warn(\n"
     ]
    },
    {
     "data": {
      "text/plain": "Training: 0it [00:00, ?it/s]",
      "application/vnd.jupyter.widget-view+json": {
       "version_major": 2,
       "version_minor": 0,
       "model_id": "a1e45ebffcab40ae819c00752289e400"
      }
     },
     "metadata": {},
     "output_type": "display_data"
    },
    {
     "data": {
      "text/plain": "Validation: 0it [00:00, ?it/s]",
      "application/vnd.jupyter.widget-view+json": {
       "version_major": 2,
       "version_minor": 0,
       "model_id": "b986ee649911466582ee8fd359d83406"
      }
     },
     "metadata": {},
     "output_type": "display_data"
    },
    {
     "name": "stderr",
     "output_type": "stream",
     "text": [
      "Epoch 0, global step 15: 'val_loss' reached 0.57605 (best 0.57605), saving model to '/home/jkarolczak/Projects/eeg-alcoholics/checkpoints/best-checkpoint-v31.ckpt' as top 1\n"
     ]
    },
    {
     "data": {
      "text/plain": "Validation: 0it [00:00, ?it/s]",
      "application/vnd.jupyter.widget-view+json": {
       "version_major": 2,
       "version_minor": 0,
       "model_id": "6bc91660bef54d058cc734107fae0c4a"
      }
     },
     "metadata": {},
     "output_type": "display_data"
    },
    {
     "name": "stderr",
     "output_type": "stream",
     "text": [
      "Epoch 1, global step 30: 'val_loss' reached 0.54994 (best 0.54994), saving model to '/home/jkarolczak/Projects/eeg-alcoholics/checkpoints/best-checkpoint-v31.ckpt' as top 1\n"
     ]
    },
    {
     "data": {
      "text/plain": "Validation: 0it [00:00, ?it/s]",
      "application/vnd.jupyter.widget-view+json": {
       "version_major": 2,
       "version_minor": 0,
       "model_id": "d51422f581044d568f845fb08e76e0b9"
      }
     },
     "metadata": {},
     "output_type": "display_data"
    },
    {
     "name": "stderr",
     "output_type": "stream",
     "text": [
      "Epoch 2, global step 45: 'val_loss' reached 0.37875 (best 0.37875), saving model to '/home/jkarolczak/Projects/eeg-alcoholics/checkpoints/best-checkpoint-v31.ckpt' as top 1\n"
     ]
    },
    {
     "data": {
      "text/plain": "Validation: 0it [00:00, ?it/s]",
      "application/vnd.jupyter.widget-view+json": {
       "version_major": 2,
       "version_minor": 0,
       "model_id": "e35d417accf544469091c30810794ba9"
      }
     },
     "metadata": {},
     "output_type": "display_data"
    },
    {
     "name": "stderr",
     "output_type": "stream",
     "text": [
      "Epoch 3, global step 60: 'val_loss' reached 0.29786 (best 0.29786), saving model to '/home/jkarolczak/Projects/eeg-alcoholics/checkpoints/best-checkpoint-v31.ckpt' as top 1\n"
     ]
    },
    {
     "data": {
      "text/plain": "Validation: 0it [00:00, ?it/s]",
      "application/vnd.jupyter.widget-view+json": {
       "version_major": 2,
       "version_minor": 0,
       "model_id": "a65e140cc17a4b89b199a4c7f9710c6e"
      }
     },
     "metadata": {},
     "output_type": "display_data"
    },
    {
     "name": "stderr",
     "output_type": "stream",
     "text": [
      "Epoch 4, global step 75: 'val_loss' reached 0.29212 (best 0.29212), saving model to '/home/jkarolczak/Projects/eeg-alcoholics/checkpoints/best-checkpoint-v31.ckpt' as top 1\n"
     ]
    },
    {
     "data": {
      "text/plain": "Validation: 0it [00:00, ?it/s]",
      "application/vnd.jupyter.widget-view+json": {
       "version_major": 2,
       "version_minor": 0,
       "model_id": "5f7dee65763f47a08b73bbf53970083b"
      }
     },
     "metadata": {},
     "output_type": "display_data"
    },
    {
     "name": "stderr",
     "output_type": "stream",
     "text": [
      "Epoch 5, global step 90: 'val_loss' was not in top 1\n"
     ]
    },
    {
     "data": {
      "text/plain": "Validation: 0it [00:00, ?it/s]",
      "application/vnd.jupyter.widget-view+json": {
       "version_major": 2,
       "version_minor": 0,
       "model_id": "88a72d62e5114ef68f5c2052c8952607"
      }
     },
     "metadata": {},
     "output_type": "display_data"
    },
    {
     "name": "stderr",
     "output_type": "stream",
     "text": [
      "Epoch 6, global step 105: 'val_loss' was not in top 1\n"
     ]
    },
    {
     "data": {
      "text/plain": "Validation: 0it [00:00, ?it/s]",
      "application/vnd.jupyter.widget-view+json": {
       "version_major": 2,
       "version_minor": 0,
       "model_id": "1541578d5ef44edb9f1dfd7987579920"
      }
     },
     "metadata": {},
     "output_type": "display_data"
    },
    {
     "name": "stderr",
     "output_type": "stream",
     "text": [
      "Epoch 7, global step 120: 'val_loss' was not in top 1\n"
     ]
    },
    {
     "data": {
      "text/plain": "Validation: 0it [00:00, ?it/s]",
      "application/vnd.jupyter.widget-view+json": {
       "version_major": 2,
       "version_minor": 0,
       "model_id": "ef609d458e8a4bcc96524b8b9e168ac6"
      }
     },
     "metadata": {},
     "output_type": "display_data"
    },
    {
     "name": "stderr",
     "output_type": "stream",
     "text": [
      "Epoch 8, global step 135: 'val_loss' reached 0.29064 (best 0.29064), saving model to '/home/jkarolczak/Projects/eeg-alcoholics/checkpoints/best-checkpoint-v31.ckpt' as top 1\n"
     ]
    },
    {
     "data": {
      "text/plain": "Validation: 0it [00:00, ?it/s]",
      "application/vnd.jupyter.widget-view+json": {
       "version_major": 2,
       "version_minor": 0,
       "model_id": "4a43273161074c47bca58d307ee22a03"
      }
     },
     "metadata": {},
     "output_type": "display_data"
    },
    {
     "name": "stderr",
     "output_type": "stream",
     "text": [
      "Epoch 9, global step 150: 'val_loss' was not in top 1\n"
     ]
    },
    {
     "data": {
      "text/plain": "Validation: 0it [00:00, ?it/s]",
      "application/vnd.jupyter.widget-view+json": {
       "version_major": 2,
       "version_minor": 0,
       "model_id": "92a63d43bb0b4c69b596150cc4a3eaf7"
      }
     },
     "metadata": {},
     "output_type": "display_data"
    },
    {
     "name": "stderr",
     "output_type": "stream",
     "text": [
      "Epoch 10, global step 165: 'val_loss' was not in top 1\n"
     ]
    },
    {
     "data": {
      "text/plain": "Validation: 0it [00:00, ?it/s]",
      "application/vnd.jupyter.widget-view+json": {
       "version_major": 2,
       "version_minor": 0,
       "model_id": "f5671d87747f4c70bb6fe4acce5176f1"
      }
     },
     "metadata": {},
     "output_type": "display_data"
    },
    {
     "name": "stderr",
     "output_type": "stream",
     "text": [
      "Epoch 11, global step 180: 'val_loss' was not in top 1\n"
     ]
    },
    {
     "data": {
      "text/plain": "Validation: 0it [00:00, ?it/s]",
      "application/vnd.jupyter.widget-view+json": {
       "version_major": 2,
       "version_minor": 0,
       "model_id": "f18d5a72eaab4f32a858f8e3ca16456b"
      }
     },
     "metadata": {},
     "output_type": "display_data"
    },
    {
     "name": "stderr",
     "output_type": "stream",
     "text": [
      "Epoch 12, global step 195: 'val_loss' was not in top 1\n"
     ]
    },
    {
     "data": {
      "text/plain": "Validation: 0it [00:00, ?it/s]",
      "application/vnd.jupyter.widget-view+json": {
       "version_major": 2,
       "version_minor": 0,
       "model_id": "502ff31dc7194408a36c062a0f4ddd12"
      }
     },
     "metadata": {},
     "output_type": "display_data"
    },
    {
     "name": "stderr",
     "output_type": "stream",
     "text": [
      "Epoch 13, global step 210: 'val_loss' was not in top 1\n"
     ]
    },
    {
     "data": {
      "text/plain": "Validation: 0it [00:00, ?it/s]",
      "application/vnd.jupyter.widget-view+json": {
       "version_major": 2,
       "version_minor": 0,
       "model_id": "32512ef3382245269e4a72ad1a326be9"
      }
     },
     "metadata": {},
     "output_type": "display_data"
    },
    {
     "name": "stderr",
     "output_type": "stream",
     "text": [
      "Epoch 14, global step 225: 'val_loss' was not in top 1\n",
      "`Trainer.fit` stopped: `max_epochs=15` reached.\n"
     ]
    }
   ],
   "source": [
    "trainer.fit(model, data_module)"
   ]
  },
  {
   "cell_type": "code",
   "execution_count": 104,
   "metadata": {
    "ExecuteTime": {
     "end_time": "2023-05-03T18:39:22.186993535Z",
     "start_time": "2023-05-03T18:39:21.377987598Z"
    }
   },
   "outputs": [
    {
     "name": "stderr",
     "output_type": "stream",
     "text": [
      "/home/jkarolczak/miniconda3/envs/eeg/lib/python3.10/site-packages/pytorch_lightning/trainer/connectors/checkpoint_connector.py:148: UserWarning: `.test(ckpt_path=None)` was called without a model. The best model of the previous `fit` call will be used. You can pass `.test(ckpt_path='best')` to use the best model or `.test(ckpt_path='last')` to use the last model. If you pass a value, this warning will be silenced.\n",
      "  rank_zero_warn(\n",
      "Restoring states from the checkpoint path at /home/jkarolczak/Projects/eeg-alcoholics/checkpoints/best-checkpoint-v31.ckpt\n",
      "LOCAL_RANK: 0 - CUDA_VISIBLE_DEVICES: [0]\n",
      "Loaded model weights from the checkpoint at /home/jkarolczak/Projects/eeg-alcoholics/checkpoints/best-checkpoint-v31.ckpt\n"
     ]
    },
    {
     "data": {
      "text/plain": "Testing: 0it [00:00, ?it/s]",
      "application/vnd.jupyter.widget-view+json": {
       "version_major": 2,
       "version_minor": 0,
       "model_id": "31e8ee2d3ce745ebab7c253900efa433"
      }
     },
     "metadata": {},
     "output_type": "display_data"
    },
    {
     "name": "stdout",
     "output_type": "stream",
     "text": [
      "────────────────────────────────────────────────────────────────────────────────────────────────────────────────────────\n",
      "       Test metric             DataLoader 0\n",
      "────────────────────────────────────────────────────────────────────────────────────────────────────────────────────────\n",
      "      test_accuracy          0.942105233669281\n",
      "        test_loss           0.18958677351474762\n",
      "────────────────────────────────────────────────────────────────────────────────────────────────────────────────────────\n"
     ]
    },
    {
     "data": {
      "text/plain": "[{'test_loss': 0.18958677351474762, 'test_accuracy': 0.942105233669281}]"
     },
     "execution_count": 104,
     "metadata": {},
     "output_type": "execute_result"
    }
   ],
   "source": [
    "trainer.test(dataloaders=data_module.test_dataloader())"
   ]
  }
 ],
 "metadata": {
  "kernelspec": {
   "display_name": "Python 3",
   "language": "python",
   "name": "python3"
  },
  "language_info": {
   "codemirror_mode": {
    "name": "ipython",
    "version": 3
   },
   "file_extension": ".py",
   "mimetype": "text/x-python",
   "name": "python",
   "nbconvert_exporter": "python",
   "pygments_lexer": "ipython3",
   "version": "3.10.4"
  },
  "orig_nbformat": 4
 },
 "nbformat": 4,
 "nbformat_minor": 2
}
