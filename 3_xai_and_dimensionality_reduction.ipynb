{
 "cells": [
  {
   "cell_type": "code",
   "execution_count": 23,
   "metadata": {
    "collapsed": true,
    "ExecuteTime": {
     "start_time": "2023-04-15T18:41:05.262014Z",
     "end_time": "2023-04-15T18:41:05.435135Z"
    }
   },
   "outputs": [],
   "source": [
    "# TO BE DELETED\n",
    "\n",
    "import sys\n",
    "from typing import Iterable, Tuple\n",
    "\n",
    "import numpy as np\n",
    "\n",
    "sys.path.append(\"src\")\n",
    "\n",
    "import utils"
   ]
  },
  {
   "cell_type": "code",
   "execution_count": 2,
   "outputs": [],
   "source": [
    "data = utils.read_data(\"train\")"
   ],
   "metadata": {
    "collapsed": false,
    "ExecuteTime": {
     "start_time": "2023-04-15T18:35:04.799548Z",
     "end_time": "2023-04-15T18:35:11.053653Z"
    }
   }
  },
  {
   "cell_type": "code",
   "execution_count": 3,
   "outputs": [],
   "source": [
    "min_, mean_, max_, var_, skw_, kurt_ = [np.empty((utils.meta.train_instances, utils.meta.n_columns)) for _ in range(6)]\n",
    "\n",
    "for i_d, d in enumerate(data.values()):\n",
    "    ts = d[\"ts\"]\n",
    "    min_[i_d] = ts.min(axis=0)\n",
    "    mean_[i_d] = ts.mean(axis=0)\n",
    "    max_[i_d] = ts.max(axis=0)\n",
    "    var_[i_d] = ts.var(axis=0)\n",
    "    skw_[i_d] = ts.skew(axis=0)\n",
    "    kurt_[i_d] = ts.kurt(axis=0)"
   ],
   "metadata": {
    "collapsed": false,
    "ExecuteTime": {
     "start_time": "2023-04-15T18:35:11.056703Z",
     "end_time": "2023-04-15T18:35:11.747863Z"
    }
   }
  },
  {
   "cell_type": "code",
   "execution_count": 4,
   "outputs": [],
   "source": [
    "classes = [1 if d[\"class\"] == \"a\" else 0 for d in data.values()]"
   ],
   "metadata": {
    "collapsed": false,
    "ExecuteTime": {
     "start_time": "2023-04-15T18:35:11.749704Z",
     "end_time": "2023-04-15T18:35:11.750962Z"
    }
   }
  },
  {
   "cell_type": "code",
   "execution_count": 5,
   "outputs": [
    {
     "name": "stdout",
     "output_type": "stream",
     "text": [
      "0.9419354838709677\n",
      "0.9433962264150944\n"
     ]
    }
   ],
   "source": [
    "from sklearn.linear_model import LogisticRegression\n",
    "from sklearn.model_selection import train_test_split\n",
    "from sklearn.metrics import f1_score\n",
    "\n",
    "X = np.hstack((min_, mean_, max_, var_, skw_, kurt_))\n",
    "y = classes\n",
    "\n",
    "X_train, X_test, y_train, y_test = train_test_split(X, y, test_size=0.33, random_state=42)\n",
    "\n",
    "model = LogisticRegression(max_iter=1000).fit(X_train, y_train)\n",
    "print(model.score(X_test, y_test))\n",
    "print(f1_score(y_test, model.predict(X_test)))"
   ],
   "metadata": {
    "collapsed": false,
    "ExecuteTime": {
     "start_time": "2023-04-15T18:35:11.752994Z",
     "end_time": "2023-04-15T18:35:12.196874Z"
    }
   }
  },
  {
   "cell_type": "code",
   "execution_count": 24,
   "outputs": [],
   "source": [
    "def idx_to_sensor_statistic(idx: int, moments: Iterable[str] = (\n",
    "        \"minimum\", \"mean\", \"maximum\", \"variance\", \"skewness\", \"kurtosis\")) -> Tuple[str, str]:\n",
    "    sensor_id = idx % utils.meta.n_columns\n",
    "    sensor_name = utils.meta.column_names[sensor_id]\n",
    "    moment_id = idx // utils.meta.n_columns\n",
    "    moment_name = moments[moment_id]\n",
    "    return sensor_name, moment_name"
   ],
   "metadata": {
    "collapsed": false,
    "ExecuteTime": {
     "start_time": "2023-04-15T18:41:08.317440Z",
     "end_time": "2023-04-15T18:41:08.319813Z"
    }
   }
  },
  {
   "cell_type": "code",
   "execution_count": 25,
   "outputs": [
    {
     "name": "stdout",
     "output_type": "stream",
     "text": [
      "top:    0, coef:  0.2059, sensor:   F4, stat: variance\n",
      "top:    1, coef: -0.1772, sensor:  AF1, stat: variance\n",
      "top:    2, coef:  0.1724, sensor:  FC5, stat: variance\n",
      "top:    3, coef:  0.1647, sensor:  FP2, stat: variance\n",
      "top:    4, coef:  0.1637, sensor:   P8, stat: variance\n",
      "top:    5, coef:  0.1564, sensor:  PO2, stat: variance\n",
      "top:    6, coef:  0.1487, sensor:   F8, stat: variance\n",
      "top:    7, coef: -0.1471, sensor:   C2, stat: maximum\n",
      "top:    8, coef: -0.1447, sensor:  PO8, stat: variance\n",
      "top:    9, coef: -0.1430, sensor:  AF2, stat: variance\n",
      "top:   10, coef:  0.1410, sensor:   F8, stat: maximum\n",
      "top:   11, coef:  0.1385, sensor:  AF7, stat: variance\n",
      "top:   12, coef: -0.1354, sensor:  FPZ, stat: variance\n",
      "top:   13, coef: -0.1318, sensor:   CZ, stat: maximum\n",
      "top:   14, coef: -0.1317, sensor:   O2, stat: variance\n",
      "top:   15, coef: -0.1304, sensor:  AFZ, stat: variance\n",
      "top:   16, coef:  0.1293, sensor:  CP6, stat: variance\n",
      "top:   17, coef: -0.1280, sensor:  FT8, stat: variance\n",
      "top:   18, coef: -0.1261, sensor:   P5, stat: variance\n",
      "top:   19, coef: -0.1246, sensor:   P3, stat: variance\n",
      "top:   20, coef:  0.1208, sensor:    X, stat: minimum\n"
     ]
    }
   ],
   "source": [
    "idcs_sorted = np.argsort(np.abs(model.coef_))\n",
    "for i_c, idx in enumerate(idcs_sorted.T[::-1]):\n",
    "    if i_c > 20:\n",
    "        break\n",
    "    sensor, moment = idx_to_sensor_statistic(int(idx))\n",
    "    print(f\"top: {i_c:4d}, coef: {float(model.coef_[0, idx]): 2.4f}, sensor: {sensor:>4}, stat: {moment}\")"
   ],
   "metadata": {
    "collapsed": false,
    "ExecuteTime": {
     "start_time": "2023-04-15T18:41:09.007968Z",
     "end_time": "2023-04-15T18:41:09.010634Z"
    }
   }
  },
  {
   "cell_type": "code",
   "execution_count": 27,
   "outputs": [
    {
     "name": "stdout",
     "output_type": "stream",
     "text": [
      "0.9225806451612903\n",
      "0.9240506329113924\n"
     ]
    }
   ],
   "source": [
    "from sklearn.linear_model import LogisticRegression\n",
    "from sklearn.model_selection import train_test_split\n",
    "from sklearn.metrics import f1_score\n",
    "\n",
    "X = var_\n",
    "y = classes\n",
    "\n",
    "X_train, X_test, y_train, y_test = train_test_split(X, y, test_size=0.33, random_state=42)\n",
    "\n",
    "model = LogisticRegression(max_iter=int(1e5)).fit(X_train, y_train)\n",
    "print(model.score(X_test, y_test))\n",
    "print(f1_score(y_test, model.predict(X_test)))"
   ],
   "metadata": {
    "collapsed": false,
    "ExecuteTime": {
     "start_time": "2023-04-15T18:41:42.993890Z",
     "end_time": "2023-04-15T18:41:43.250185Z"
    }
   }
  },
  {
   "cell_type": "code",
   "execution_count": 45,
   "outputs": [],
   "source": [
    "from sklearn.feature_selection import SelectFromModel\n",
    "\n",
    "f1_hist = []\n",
    "\n",
    "for n_features in range(1, X.shape[1]):\n",
    "    selector = SelectFromModel(estimator=LogisticRegression(max_iter=int(1e5)), threshold=0,\n",
    "                               max_features=n_features).fit(X, y)\n",
    "    indices = selector.get_support()\n",
    "    indices = np.where(indices)[0]\n",
    "    X_n_train, X_n_test = X_train[:, indices], X_test[:, indices]\n",
    "    model = LogisticRegression(max_iter=int(1e5)).fit(X_n_train, y_train)\n",
    "    f1_hist.append(f1_score(y_test, model.predict(X_n_test)))"
   ],
   "metadata": {
    "collapsed": false,
    "ExecuteTime": {
     "start_time": "2023-04-15T18:52:37.692299Z",
     "end_time": "2023-04-15T18:53:21.741863Z"
    }
   }
  },
  {
   "cell_type": "code",
   "execution_count": 48,
   "outputs": [
    {
     "data": {
      "text/plain": "<Figure size 640x480 with 1 Axes>",
      "image/png": "[encoded data removed]"
     },
     "metadata": {},
     "output_type": "display_data"
    },
    {
     "name": "stdout",
     "output_type": "stream",
     "text": [
      "Number of features yielding solution of best quality (argmax): 29\n"
     ]
    }
   ],
   "source": [
    "from matplotlib import pyplot as plt\n",
    "\n",
    "plt.plot(f1_hist)\n",
    "plt.xlabel(\"Number of features\")\n",
    "plt.ylabel(\"F1\")\n",
    "plt.show()\n",
    "\n",
    "print(f\"Number of features yielding solution of best quality (argmax): {np.argmax(f1_hist)}\")"
   ],
   "metadata": {
    "collapsed": false,
    "ExecuteTime": {
     "start_time": "2023-04-15T18:55:28.141373Z",
     "end_time": "2023-04-15T18:55:28.355514Z"
    }
   }
  },
  {
   "cell_type": "code",
   "execution_count": 53,
   "outputs": [
    {
     "name": "stdout",
     "output_type": "stream",
     "text": [
      "accuracy: 0.9548387096774194\n",
      "f1: 0.9554140127388535\n",
      "===\n",
      "top:    0, coef: -0.9789, sensor:   C3, stat: variance\n",
      "top:    1, coef:  0.8989, sensor:  CP4, stat: variance\n",
      "top:    2, coef: -0.8882, sensor:  AF8, stat: variance\n",
      "top:    3, coef: -0.8131, sensor:   C2, stat: variance\n",
      "top:    4, coef: -0.8049, sensor:   F7, stat: variance\n",
      "top:    5, coef:  0.7357, sensor:   C4, stat: variance\n",
      "top:    6, coef:  0.7249, sensor:   C6, stat: variance\n",
      "top:    7, coef:  0.7135, sensor:  CP1, stat: variance\n",
      "top:    8, coef: -0.7012, sensor:   F4, stat: variance\n",
      "top:    9, coef:  0.6367, sensor:   F8, stat: variance\n",
      "top:   10, coef:  0.5833, sensor:   C1, stat: variance\n",
      "top:   11, coef: -0.5662, sensor:  AF2, stat: variance\n",
      "top:   12, coef: -0.5347, sensor:   F1, stat: variance\n",
      "top:   13, coef:  0.5064, sensor:  FC2, stat: variance\n",
      "top:   14, coef:  0.3535, sensor:   CZ, stat: variance\n",
      "top:   15, coef: -0.3440, sensor:   F5, stat: variance\n",
      "top:   16, coef:  0.3345, sensor:  AFZ, stat: variance\n",
      "top:   17, coef: -0.2198, sensor:   F6, stat: variance\n",
      "top:   18, coef:  0.1807, sensor:  FC3, stat: variance\n",
      "top:   19, coef: -0.1588, sensor:  CP2, stat: variance\n",
      "top:   20, coef:  0.1449, sensor:   F2, stat: variance\n",
      "top:   21, coef: -0.1402, sensor:  FC1, stat: variance\n",
      "top:   22, coef: -0.1338, sensor:   F3, stat: variance\n",
      "top:   23, coef: -0.1198, sensor:  CP6, stat: variance\n",
      "top:   24, coef:  0.1042, sensor:  AF7, stat: variance\n",
      "top:   25, coef: -0.0919, sensor:  CP3, stat: variance\n",
      "top:   26, coef: -0.0706, sensor:  CPZ, stat: variance\n",
      "top:   27, coef: -0.0326, sensor:  CP5, stat: variance\n",
      "top:   28, coef: -0.0232, sensor:   C5, stat: variance\n",
      "top:   29, coef: -0.0029, sensor:  AF1, stat: variance\n"
     ]
    }
   ],
   "source": [
    "selector = SelectFromModel(estimator=LogisticRegression(max_iter=int(1e5)), threshold=0,\n",
    "                           max_features=np.argmax(f1_hist) + 1).fit(X, y)\n",
    "indices = selector.get_support()\n",
    "indices = np.where(indices)[0]\n",
    "X_n_train, X_n_test = X_train[:, indices], X_test[:, indices]\n",
    "model = LogisticRegression(max_iter=int(1e5)).fit(X_n_train, y_train)\n",
    "\n",
    "print(f\"accuracy: {model.score(X_n_test, y_test)}\")\n",
    "print(f\"f1: {f1_score(y_test, model.predict(X_n_test))}\\n===\")\n",
    "\n",
    "idcs_sorted = np.argsort(np.abs(model.coef_))\n",
    "for i_c, idx in enumerate(idcs_sorted.T[::-1]):\n",
    "    sensor, moment = idx_to_sensor_statistic(int(idx), moments=[\"variance\"])\n",
    "    print(f\"top: {i_c:4d}, coef: {float(model.coef_[0, idx]): 2.4f}, sensor: {sensor:>4}, stat: {moment}\")"
   ],
   "metadata": {
    "collapsed": false,
    "ExecuteTime": {
     "start_time": "2023-04-15T18:59:12.587061Z",
     "end_time": "2023-04-15T18:59:13.768417Z"
    }
   }
  }
 ],
 "metadata": {
  "kernelspec": {
   "display_name": "Python 3",
   "language": "python",
   "name": "python3"
  },
  "language_info": {
   "codemirror_mode": {
    "name": "ipython",
    "version": 2
   },
   "file_extension": ".py",
   "mimetype": "text/x-python",
   "name": "python",
   "nbconvert_exporter": "python",
   "pygments_lexer": "ipython2",
   "version": "2.7.6"
  }
 },
 "nbformat": 4,
 "nbformat_minor": 0
}
